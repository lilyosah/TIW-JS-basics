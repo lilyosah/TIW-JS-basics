{
  "cells": [
    {
      "cell_type": "markdown",
      "metadata": {
        "id": "lMGnlLi7MkD3"
      },
      "source": [
        "# JavaScript Basics\n",
        "\n",
        "*Lily Davisson*\n",
        "\n",
        "> **Requires:**\n",
        ">\n",
        ">    - Experience with a scripting language (preferably c-like)\n",
        ">    - Some idea of the DOM\n",
        "\n",
        "## Set-up\n",
        "\n",
        "You can run this notebook in Google Colab or download it and use it in VSCode.\n",
        "\n",
        "### Google Colab Set-Up\n",
        "\n",
        "Run the next two cells on first load which allow you to run Javascript in the notebook, usually notebooks only run Python.\n",
        "\n",
        "> **After you run the first cell, reload the tab and then run the second**\n",
        "\n",
        " After that, proceed with the rest of the cells like normal. You don't need to run the first two again. If you accidentally set the runtime back to Python, you can click on runtime at the top menu and click factory reset runtime and run the next two cells again.\n",
        "\n",
        "You can clear the output from the cells by clicking the three dots on the right of the menu bar that pops up when you click on the cells and click on clear output. \n",
        "\n",
        "### VSCode set-up\n",
        "\n",
        "1. Install the Jupyter extension in VSCode\n",
        "2. Run `$ npm install -g ijavascript`\n",
        "3. Open the notebook and select Javascript for the kernel\n"
      ]
    },
    {
      "cell_type": "markdown",
      "metadata": {
        "id": "zkjynPl4Kwcp"
      },
      "source": []
    },
    {
      "cell_type": "code",
      "execution_count": null,
      "metadata": {
        "id": "ZVkF16NwcMsZ"
      },
      "outputs": [],
      "source": [
        "#/* run this once, then reload, and then skip this\n",
        "!npm install -g --unsafe-perm ijavascript\n",
        "!ijsinstall --install=global  # as fake comment */"
      ]
    },
    {
      "cell_type": "code",
      "execution_count": null,
      "metadata": {
        "id": "skqAs_UHc8_P"
      },
      "outputs": [],
      "source": [
        "// need this for running shell command\n",
        "var { spawn } = require('child_process');\n",
        "var sh = (cmd) => { \n",
        "    $$.async();\n",
        "    var sp = spawn(cmd, { cwd: process.cwd(), stdio: 'pipe', shell: true, encoding: 'utf-8' });\n",
        "    sp.stdout.on('data', data => console.log(data.toString()));\n",
        "    sp.stderr.on('data', data => console.error(data.toString()));\n",
        "    sp.on('close', () => $$.done());\n",
        "};\n",
        "sh('npm init -y');"
      ]
    },
    {
      "cell_type": "code",
      "execution_count": null,
      "metadata": {
        "id": "FX9NhyWsU1BM"
      },
      "outputs": [],
      "source": [
        "// If this runs, the cells above have worked properly.\n",
        "console.log(\"Hello World\")"
      ]
    },
    {
      "cell_type": "markdown",
      "metadata": {
        "id": "FGeWscNWMwBa"
      },
      "source": [
        "## About Javascript\n",
        "\n",
        "- C-like scripting language that runs in browsers\n",
        "    - If you want, you can run Javascript by going to inspector tools on a page and then clicking on console. Try typing `console.log(\"Hello world\")`\n",
        "    - Not related to Java, just named stupidly\n",
        "    - Node.JS simulates a browser, lets you run Javascript locally without a browser\n",
        "- Allows you to add interactivity to web pages and manipulate the DOM (Document Object Model)\n",
        "- A little weird and gets a lot of hate. But it’s also a lot of fun\n"
      ]
    },
    {
      "cell_type": "markdown",
      "metadata": {
        "id": "IgemgNZMMy8N"
      },
      "source": [
        "## Key Features - Basics\n",
        "\n",
        "### Syntax\n",
        "\n",
        "C-like! Think curly braces, semicolons."
      ]
    },
    {
      "cell_type": "code",
      "execution_count": null,
      "metadata": {
        "id": "2FrmHc0-M2Oa"
      },
      "outputs": [],
      "source": [
        "const myVar = 123;\n",
        "\n",
        "if (true) {\n",
        "    console.log(\"Woah!!!\")\n",
        "}"
      ]
    },
    {
      "cell_type": "markdown",
      "metadata": {
        "id": "tljra6mANZOQ"
      },
      "source": [
        "## Declaration types\n",
        "\n",
        "JS is loosely typed and dynamic. You don't need to specify the type of the variable when you declare it, you just need to say what scope it should have.\n",
        "\n",
        "- **let:** block scope, local to whatever block it is defined in\n",
        "- **var:** function or global scope, depending if it's defined in a function or outside. You can access the names of these variables at any point in the function because they are \"hoisted\" to the top.\n",
        "- **const:** makes the value final, unchangeable, function or global scope.  Use this as much as you can as long as you don't need to change the variable.\n",
        "\n",
        "If you don't declare with any of these types it becomes global, which is BAD!!! Avoid that if you can."
      ]
    },
    {
      "cell_type": "code",
      "execution_count": null,
      "metadata": {
        "id": "XdlSRLOiNjAO"
      },
      "outputs": [],
      "source": [
        "\n",
        "function myFunc() {\n",
        "  console.log(\"Can I access this variable declared after this point with function scope?\", myVariableAtTheBottom);\n",
        "\n",
        "  if (true) {\n",
        "    let myBlockVar = \"You can't access me outside of this if statement\";\n",
        "  }\n",
        "  console.log(\"Can I access the block var here here??\", myBlockVar); // NO!!!!\n",
        "\n",
        "  var myVariableAtTheBottom = \"You CAN access my variable name at the top (I won't crash the program) \\\n",
        "        because I'm 'hoisted' to the top of the method! I have not been given a value at that point, though\";\n",
        "\n",
        "  const unchanging = \"I can't change after my first declaration. I'm the best!!!\";\n",
        "}\n",
        "\n",
        "myFunc();"
      ]
    },
    {
      "cell_type": "markdown",
      "metadata": {
        "id": "UpUMO9ihQs6k"
      },
      "source": [
        "## Conditionals\n",
        "\n",
        "If statements are pretty normal. You can sometimes simplify if - else statements though.\n"
      ]
    },
    {
      "cell_type": "code",
      "execution_count": null,
      "metadata": {
        "id": "GROkZXJKNrwl"
      },
      "outputs": [],
      "source": [
        "const myVal = true;"
      ]
    },
    {
      "cell_type": "markdown",
      "metadata": {},
      "source": [
        "These two blocks are equivalent:"
      ]
    },
    {
      "cell_type": "code",
      "execution_count": null,
      "metadata": {},
      "outputs": [],
      "source": [
        "if (myVal) {\n",
        "    console.log(\"Val was true\");\n",
        "}\n",
        "else {\n",
        "    console.log(\"Val was false\");\n",
        "}"
      ]
    },
    {
      "cell_type": "code",
      "execution_count": null,
      "metadata": {},
      "outputs": [],
      "source": [
        "console.log(myVal ? \"Val was true\" : \"Val was false\");"
      ]
    },
    {
      "cell_type": "markdown",
      "metadata": {
        "id": "Uaq4I6j9TQYo"
      },
      "source": [
        "### Comparators\n",
        "\n",
        "Also, comparators are different. Two equal signs compares if the values are equal, three equal signs checks for strict equality, and also compares that the types are the same. You probably only want to use strict equality."
      ]
    },
    {
      "cell_type": "code",
      "execution_count": null,
      "metadata": {
        "id": "hexE5YK_TV16"
      },
      "outputs": [],
      "source": [
        "if (1 == '1') {\n",
        "  console.log(\"By loose comparison, 1 is equal to '1'\");\n",
        "}"
      ]
    },
    {
      "cell_type": "code",
      "execution_count": null,
      "metadata": {},
      "outputs": [],
      "source": [
        "if (1 === '1') {\n",
        "}\n",
        "else {\n",
        "    console.log(\"By strict comparison, 1 is NOT equal to '1'. This is probably what you want to check for most of the time.\");\n",
        "}"
      ]
    },
    {
      "cell_type": "markdown",
      "metadata": {
        "id": "ha2VgAM2S6Kp"
      },
      "source": [
        "## Functions\n",
        "\n",
        "Functions in JS can be quite different. The first thing to consider is that *everything in JS is an object*, including functions. You've seen how regular methods can be written and called:\n"
      ]
    },
    {
      "cell_type": "code",
      "execution_count": null,
      "metadata": {
        "id": "m8V-ek_QUrUx"
      },
      "outputs": [],
      "source": [
        "function logParty() {\n",
        "  console.log(\"Party!\");\n",
        "}\n",
        "\n",
        "logParty()"
      ]
    },
    {
      "cell_type": "markdown",
      "metadata": {
        "id": "b1Q61qpdU8Gz"
      },
      "source": [
        "But because functions are also objects, you can also save the function as a value, in a variable, like so:"
      ]
    },
    {
      "cell_type": "code",
      "execution_count": null,
      "metadata": {
        "id": "s5RFGLiMVCvD"
      },
      "outputs": [],
      "source": [
        "const work = function logWork() {\n",
        "  console.log(\"Work... :(\");\n",
        "}"
      ]
    },
    {
      "cell_type": "markdown",
      "metadata": {},
      "source": [
        "How would you call this method? You cannot call `logWork` directly."
      ]
    },
    {
      "cell_type": "code",
      "execution_count": null,
      "metadata": {},
      "outputs": [],
      "source": [
        "logWork();"
      ]
    },
    {
      "cell_type": "markdown",
      "metadata": {},
      "source": [
        "You have to call the variable name:"
      ]
    },
    {
      "cell_type": "code",
      "execution_count": null,
      "metadata": {},
      "outputs": [],
      "source": [
        "work();"
      ]
    },
    {
      "cell_type": "markdown",
      "metadata": {
        "id": "4KY3nyccVg6Y"
      },
      "source": [
        "### Anonymous Functions\n",
        "\n",
        "If you can't call `logWork`, why do you even need to give the method a name? You dont need to. This introduces the concept of anonymous functions."
      ]
    },
    {
      "cell_type": "code",
      "execution_count": null,
      "metadata": {
        "id": "2g26GHbTVqxA"
      },
      "outputs": [],
      "source": [
        "// Notice we don't give the function a name\n",
        "const work2 = function () {\n",
        "  console.log(\"Work... :(\");\n",
        "}\n",
        "\n",
        "work2();"
      ]
    },
    {
      "cell_type": "markdown",
      "metadata": {
        "id": "hajEMSToWGh-"
      },
      "source": [
        "When you store a function as a value like that, you can pass it around as you would with normal variables. JS even supports passing one function into another function as a parameter, these are called higher order functions.\n",
        "\n",
        "When you call one method that was passed into another, they are called callbacks."
      ]
    },
    {
      "cell_type": "code",
      "execution_count": null,
      "metadata": {
        "id": "scmV1Gg7WZtm"
      },
      "outputs": [],
      "source": [
        "const work3 = function (afterWorkCallback) {\n",
        "  console.log(\"STILL WORKING! Ugh.\");\n",
        "  afterWorkCallback(); // What does this print?\n",
        "}\n",
        "\n",
        "const party = function () {\n",
        "  console.log(\"Work is over!!!! PARTY!!!\");\n",
        "}\n",
        "\n",
        "work3(party);"
      ]
    },
    {
      "cell_type": "markdown",
      "metadata": {
        "id": "Wf5wkaPPN45W"
      },
      "source": [
        "### Arrow functions\n",
        "\n",
        "There is also a different syntax for writing more concise methods. These are called arrow functions. \n",
        "\n",
        "There are a couple of differences between functions and arrow functions that I won't get into here, but if you're curious, [here's an article about it.](https://dmitripavlutin.com/differences-between-arrow-and-regular-functions/)\n",
        "\n",
        "\n",
        "These two methods are equivalent:"
      ]
    },
    {
      "cell_type": "code",
      "execution_count": null,
      "metadata": {
        "id": "FJA3ezd1XSQG"
      },
      "outputs": [],
      "source": [
        "// Regular function\n",
        "const version1 = function (param) {\n",
        "  console.log(param);\n",
        "}\n",
        "\n",
        "// Arrow function\n",
        "const version2 = (param) => {\n",
        "  console.log(param);\n",
        "}\n",
        "\n",
        "version1(\"Whoo!\");\n",
        "version2(\"Whoo!\");\n"
      ]
    },
    {
      "cell_type": "markdown",
      "metadata": {
        "id": "qw1fUcq4X1vx"
      },
      "source": [
        "The syntax took me a while to get used to. You're basically just getting rid of \"function\" and adding an arrow in between where the parameters go and the body of the function.\n",
        "\n",
        "I'll be using arrow functions from here on out because they are quicker to write."
      ]
    },
    {
      "cell_type": "markdown",
      "metadata": {
        "id": "50GuYSEcYddd"
      },
      "source": [
        "## Important Data Structures\n",
        "\n",
        "The most important data structures are basic objects and arrays. For a full list, check out the [MDN reference.](https://developer.mozilla.org/en-US/docs/Web/JavaScript/Reference/Global_Objects)\n",
        "\n",
        "### Objects \n",
        "\n",
        "Objects are pretty similar to maps. Values can be different types, and even be methods."
      ]
    },
    {
      "cell_type": "code",
      "execution_count": null,
      "metadata": {
        "id": "CYDqn3uHZTMQ"
      },
      "outputs": [],
      "source": [
        "const myPerson = {\n",
        "  name: \"Lily\",\n",
        "  age: 22,\n",
        "  displayInfo: function () { console.log(this.name + \"'s age is \" + this.age) }\n",
        "};\n",
        "\n",
        "myPerson.displayInfo();"
      ]
    },
    {
      "cell_type": "markdown",
      "metadata": {
        "id": "3bddsjtwaZM8"
      },
      "source": [
        "### Arrays\n",
        "\n",
        "Arrays work pretty similarly to other languages. They have a lot of really useful iteration methods in JS. While you CAN do regular loops to iterate through array values and manipulate them however you'd like to, more commonly you will see these iteration methods used. I'll go over three common ones, [here is a full list.](https://developer.mozilla.org/en-US/docs/Web/JavaScript/Reference/Global_Objects/Array#instance_methods)\n",
        "\n",
        "Most of these iteration methods take a function as an argument. \n",
        "The callback you pass into the methods can have no parameter, one, two, or three.\n",
        "\n",
        "In order, they represent:\n",
        "\n",
        "- The value a the current iteration index\n",
        "- The current index\n",
        "- The array you're iterating over. "
      ]
    },
    {
      "cell_type": "markdown",
      "metadata": {
        "id": "I0bhOsAWb-WK"
      },
      "source": [
        "#### Regular iteration and loops\n",
        "\n",
        "As a quick aside, regular for loops and while loops do exist. There are a lot of ways to write them, you can [take a look here](https://developer.mozilla.org/en-US/docs/Web/JavaScript/Reference#iterations)."
      ]
    },
    {
      "cell_type": "code",
      "execution_count": null,
      "metadata": {
        "id": "Wt6btIVCgafC"
      },
      "outputs": [],
      "source": [
        "const myArray = [0, 1, 2, 3, 4, 5, 6, 7, 8, 9];"
      ]
    },
    {
      "cell_type": "code",
      "execution_count": null,
      "metadata": {
        "id": "02XzEjIUbJoz"
      },
      "outputs": [],
      "source": [
        "// A regular iteration through an array using a for loop\n",
        "for (let i = 0; i < myArray.length; i++) {\n",
        "  console.log(myArray[i])\n",
        "}"
      ]
    },
    {
      "cell_type": "code",
      "execution_count": null,
      "metadata": {
        "id": "Fgx47NYcgYPS"
      },
      "outputs": [],
      "source": [
        "// A regular iteration through an array using a for - in loop\n",
        "for (val in myArray) {\n",
        "  console.log(val);\n",
        "}"
      ]
    },
    {
      "cell_type": "markdown",
      "metadata": {
        "id": "JcdQr0BfccGU"
      },
      "source": [
        "#### Iteration using For Each\n",
        "\n",
        "`forEach` takes a function as a parameter."
      ]
    },
    {
      "cell_type": "code",
      "execution_count": null,
      "metadata": {
        "id": "9jiLww5xcock"
      },
      "outputs": [],
      "source": [
        "// Example without any parameters\n",
        "var totalNumberOfInts = 0;\n",
        "\n",
        "myArray.forEach(() => {\n",
        "  totalNumberOfInts++;\n",
        "})\n",
        "\n",
        "console.log(\"Total number of ints:\", totalNumberOfInts);"
      ]
    },
    {
      "cell_type": "code",
      "execution_count": null,
      "metadata": {
        "id": "QnJamCYegTYf"
      },
      "outputs": [],
      "source": [
        "// Example taking one parameter\n",
        "myArray.forEach((val) => {\n",
        "  console.log(val);\n",
        " })"
      ]
    },
    {
      "cell_type": "markdown",
      "metadata": {
        "id": "oziBKO99donk"
      },
      "source": [
        "#### Map\n",
        "\n",
        "`map` takes a function as an argurment. It iterates over values and creates a NEW array, putting the value you return from the callback in the new array.\n",
        "\n",
        "For example, if we wanted to add one to every element from `myArray`:"
      ]
    },
    {
      "cell_type": "code",
      "execution_count": null,
      "metadata": {
        "id": "rKDFYCykeCSp"
      },
      "outputs": [],
      "source": [
        "const afterAddingOne = myArray.map((val) => val + 1);\n",
        "// This arrow function we pass in to map implicitly returns this value because it's only one line and we do not include curly braces. \n",
        "// This line is equivalent to \n",
        "const afterAddingOneV2 = myArray.map((val) => {return val + 1});\n",
        "\n",
        "console.log(afterAddingOne);\n",
        "console.log(afterAddingOneV2);"
      ]
    },
    {
      "cell_type": "markdown",
      "metadata": {
        "id": "Jfk_iYNjfxwX"
      },
      "source": [
        "#### Filter\n",
        "\n",
        "`filter` also takes a function as an argument. It iterates over values and creates a new array of the elements at the index where our callback returns a true conditional."
      ]
    },
    {
      "cell_type": "code",
      "execution_count": null,
      "metadata": {
        "id": "bP_PJ-fAgEVU"
      },
      "outputs": [],
      "source": [
        "// This is just adds every value from the original array to the new one because the callback always returns true.\n",
        "const everyVal = myArray.filter(() => true);\n",
        "\n",
        "console.log(everyVal);"
      ]
    },
    {
      "cell_type": "code",
      "execution_count": null,
      "metadata": {
        "id": "pYMc1YFLgh9O"
      },
      "outputs": [],
      "source": [
        "// This one will only add the even values.\n",
        "\n",
        "const evenFiltered = myArray.filter((val) => val % 2 === 0);\n",
        "\n",
        "console.log(evenFiltered);"
      ]
    },
    {
      "cell_type": "markdown",
      "metadata": {
        "id": "Kr16YSLkUhSL"
      },
      "source": [
        "## Promises\n",
        "\n",
        "Promises represent the completion status of an asynchronous operation. These are useful in casees where you may want to query for some data from an outside resource/API. When you make the call, by default, execution of the script will continue, without waiting for the result of the call.\n"
      ]
    },
    {
      "cell_type": "code",
      "execution_count": null,
      "metadata": {
        "id": "89iP22UhVQBz"
      },
      "outputs": [],
      "source": [
        "// Don't run this cell\n",
        "\n",
        "import axios from axios;\n",
        "\n",
        "const data = axios.get(\"www.myendpoint.com/\");\n",
        "console.log(data);"
      ]
    },
    {
      "cell_type": "markdown",
      "metadata": {
        "id": "tfZ2mOZNVnJ-"
      },
      "source": [
        "Axios is a library used to make requests, it removes the need for a lot of boilderplate code. In this case, we want to get some data from a made up endpoint. This call returns a promise. If we log data directly after this call, because it takes a relatively long time to traverse the internet to receive this data, it would log an incomplete promise. \n",
        "\n",
        "In most cases we care about the successful retrieval of data, however. In these cases, we can make an asyncronous function to gain access to the await keyword."
      ]
    },
    {
      "cell_type": "code",
      "execution_count": null,
      "metadata": {
        "id": "nwexCu4mWZiy"
      },
      "outputs": [],
      "source": [
        "// Don't run this cell\n",
        "\n",
        "const printData = async () => {\n",
        "  const data = await axios.get(\"www.myendpoint.com/\");\n",
        "  console.log(data);\n",
        "}\n",
        "\n",
        "// Without arrow function:\n",
        "\n",
        "const printData2 = async function () {\n",
        "  const data = await axios.get(\"www.myendpoint.com/\");\n",
        "  console.log(data);\n",
        "} "
      ]
    },
    {
      "cell_type": "markdown",
      "metadata": {
        "id": "5sOR9nWUWpBk"
      },
      "source": [
        "Await ensures that the `get` axios call returns a completed promise along with data before continuing with the code. Note the placement of the `async` and `await` keywords."
      ]
    }
  ],
  "metadata": {
    "colab": {
      "collapsed_sections": [],
      "name": "Intro to Javascript.ipynb",
      "provenance": [],
      "toc_visible": true
    },
    "kernelspec": {
      "display_name": "JavaScript (Node.js)",
      "language": "javascript",
      "name": "javascript"
    },
    "language_info": {
      "file_extension": ".js",
      "mimetype": "application/javascript",
      "name": "javascript",
      "version": "16.14.2"
    }
  },
  "nbformat": 4,
  "nbformat_minor": 0
}
